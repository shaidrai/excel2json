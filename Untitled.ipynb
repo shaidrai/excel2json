{
 "cells": [
  {
   "cell_type": "code",
   "execution_count": 1,
   "metadata": {},
   "outputs": [],
   "source": [
    "import pandas as pd\n",
    "import time\n",
    "import jsonschema\n",
    "\n",
    "\n",
    "\n",
    "# Convert the dictionary pandas format to array with objects\n",
    "def pandasDictFormat(ditionary):\n",
    "    data = []\n",
    "    int2string = ['phone','contactPhone','idNumber','numChildren','altContactPhone']\n",
    "                  \n",
    "    for counter in range(len(ditionary['roomNum'])):\n",
    "        dict1 = {}\n",
    "        for key, val in ditionary.items():\n",
    "            if key in int2string:\n",
    "                dict1[key] = str(val[counter])\n",
    "            else:\n",
    "                dict1[key] = val[counter]\n",
    "        data.append(dict1)\n",
    "    return data\n",
    "\n",
    "\n",
    "# Validate the date and time format and replacing it to timestamp\n",
    "def shaiValidate(data):\n",
    "    \n",
    "    dateKeys = ['releaseDate',\n",
    "            'hafnayaTime',\n",
    "            'arrivingTime',\n",
    "            'collectingDate',\n",
    "            'receptionTime']\n",
    "\n",
    "    for key, val in data.items():\n",
    "        if key in dateKeys:\n",
    "            data[key] = time.mktime(time.strptime(val, \"%d.%m.%Y %H:%M\")) * 1000\n",
    "    return data\n",
    "\n",
    "\n",
    "def formatExcel(path):\n",
    "    a = pd.read_excel(path)\n",
    "    data = pandasDictFormat(a.to_dict())\n",
    "\n",
    "    for row in data:\n",
    "        jsonschema.validate(row, schema=schema)\n",
    "        shaiValidate(row)\n",
    "        # Use try except outside of the function\n",
    "    return data\n"
   ]
  },
  {
   "cell_type": "code",
   "execution_count": 2,
   "metadata": {},
   "outputs": [
    {
     "ename": "FileNotFoundError",
     "evalue": "[Errno 2] No such file or directory: 'example.xlsx'",
     "output_type": "error",
     "traceback": [
      "\u001b[0;31m---------------------------------------------------------------------------\u001b[0m",
      "\u001b[0;31mFileNotFoundError\u001b[0m                         Traceback (most recent call last)",
      "\u001b[0;32m<ipython-input-2-f3458ba9179b>\u001b[0m in \u001b[0;36m<module>\u001b[0;34m\u001b[0m\n\u001b[0;32m----> 1\u001b[0;31m \u001b[0ma\u001b[0m \u001b[0;34m=\u001b[0m \u001b[0mpd\u001b[0m\u001b[0;34m.\u001b[0m\u001b[0mread_excel\u001b[0m\u001b[0;34m(\u001b[0m\u001b[0;34mr\"example.xlsx\"\u001b[0m\u001b[0;34m)\u001b[0m\u001b[0;34m\u001b[0m\u001b[0m\n\u001b[0m",
      "\u001b[0;32m/Library/Frameworks/Python.framework/Versions/3.7/lib/python3.7/site-packages/pandas/util/_decorators.py\u001b[0m in \u001b[0;36mwrapper\u001b[0;34m(*args, **kwargs)\u001b[0m\n\u001b[1;32m    176\u001b[0m                 \u001b[0;32melse\u001b[0m\u001b[0;34m:\u001b[0m\u001b[0;34m\u001b[0m\u001b[0m\n\u001b[1;32m    177\u001b[0m                     \u001b[0mkwargs\u001b[0m\u001b[0;34m[\u001b[0m\u001b[0mnew_arg_name\u001b[0m\u001b[0;34m]\u001b[0m \u001b[0;34m=\u001b[0m \u001b[0mnew_arg_value\u001b[0m\u001b[0;34m\u001b[0m\u001b[0m\n\u001b[0;32m--> 178\u001b[0;31m             \u001b[0;32mreturn\u001b[0m \u001b[0mfunc\u001b[0m\u001b[0;34m(\u001b[0m\u001b[0;34m*\u001b[0m\u001b[0margs\u001b[0m\u001b[0;34m,\u001b[0m \u001b[0;34m**\u001b[0m\u001b[0mkwargs\u001b[0m\u001b[0;34m)\u001b[0m\u001b[0;34m\u001b[0m\u001b[0m\n\u001b[0m\u001b[1;32m    179\u001b[0m         \u001b[0;32mreturn\u001b[0m \u001b[0mwrapper\u001b[0m\u001b[0;34m\u001b[0m\u001b[0m\n\u001b[1;32m    180\u001b[0m     \u001b[0;32mreturn\u001b[0m \u001b[0m_deprecate_kwarg\u001b[0m\u001b[0;34m\u001b[0m\u001b[0m\n",
      "\u001b[0;32m/Library/Frameworks/Python.framework/Versions/3.7/lib/python3.7/site-packages/pandas/util/_decorators.py\u001b[0m in \u001b[0;36mwrapper\u001b[0;34m(*args, **kwargs)\u001b[0m\n\u001b[1;32m    176\u001b[0m                 \u001b[0;32melse\u001b[0m\u001b[0;34m:\u001b[0m\u001b[0;34m\u001b[0m\u001b[0m\n\u001b[1;32m    177\u001b[0m                     \u001b[0mkwargs\u001b[0m\u001b[0;34m[\u001b[0m\u001b[0mnew_arg_name\u001b[0m\u001b[0;34m]\u001b[0m \u001b[0;34m=\u001b[0m \u001b[0mnew_arg_value\u001b[0m\u001b[0;34m\u001b[0m\u001b[0m\n\u001b[0;32m--> 178\u001b[0;31m             \u001b[0;32mreturn\u001b[0m \u001b[0mfunc\u001b[0m\u001b[0;34m(\u001b[0m\u001b[0;34m*\u001b[0m\u001b[0margs\u001b[0m\u001b[0;34m,\u001b[0m \u001b[0;34m**\u001b[0m\u001b[0mkwargs\u001b[0m\u001b[0;34m)\u001b[0m\u001b[0;34m\u001b[0m\u001b[0m\n\u001b[0m\u001b[1;32m    179\u001b[0m         \u001b[0;32mreturn\u001b[0m \u001b[0mwrapper\u001b[0m\u001b[0;34m\u001b[0m\u001b[0m\n\u001b[1;32m    180\u001b[0m     \u001b[0;32mreturn\u001b[0m \u001b[0m_deprecate_kwarg\u001b[0m\u001b[0;34m\u001b[0m\u001b[0m\n",
      "\u001b[0;32m/Library/Frameworks/Python.framework/Versions/3.7/lib/python3.7/site-packages/pandas/io/excel.py\u001b[0m in \u001b[0;36mread_excel\u001b[0;34m(io, sheet_name, header, names, index_col, usecols, squeeze, dtype, engine, converters, true_values, false_values, skiprows, nrows, na_values, parse_dates, date_parser, thousands, comment, skipfooter, convert_float, **kwds)\u001b[0m\n\u001b[1;32m    305\u001b[0m \u001b[0;34m\u001b[0m\u001b[0m\n\u001b[1;32m    306\u001b[0m     \u001b[0;32mif\u001b[0m \u001b[0;32mnot\u001b[0m \u001b[0misinstance\u001b[0m\u001b[0;34m(\u001b[0m\u001b[0mio\u001b[0m\u001b[0;34m,\u001b[0m \u001b[0mExcelFile\u001b[0m\u001b[0;34m)\u001b[0m\u001b[0;34m:\u001b[0m\u001b[0;34m\u001b[0m\u001b[0m\n\u001b[0;32m--> 307\u001b[0;31m         \u001b[0mio\u001b[0m \u001b[0;34m=\u001b[0m \u001b[0mExcelFile\u001b[0m\u001b[0;34m(\u001b[0m\u001b[0mio\u001b[0m\u001b[0;34m,\u001b[0m \u001b[0mengine\u001b[0m\u001b[0;34m=\u001b[0m\u001b[0mengine\u001b[0m\u001b[0;34m)\u001b[0m\u001b[0;34m\u001b[0m\u001b[0m\n\u001b[0m\u001b[1;32m    308\u001b[0m \u001b[0;34m\u001b[0m\u001b[0m\n\u001b[1;32m    309\u001b[0m     return io.parse(\n",
      "\u001b[0;32m/Library/Frameworks/Python.framework/Versions/3.7/lib/python3.7/site-packages/pandas/io/excel.py\u001b[0m in \u001b[0;36m__init__\u001b[0;34m(self, io, **kwds)\u001b[0m\n\u001b[1;32m    392\u001b[0m             \u001b[0mself\u001b[0m\u001b[0;34m.\u001b[0m\u001b[0mbook\u001b[0m \u001b[0;34m=\u001b[0m \u001b[0mxlrd\u001b[0m\u001b[0;34m.\u001b[0m\u001b[0mopen_workbook\u001b[0m\u001b[0;34m(\u001b[0m\u001b[0mfile_contents\u001b[0m\u001b[0;34m=\u001b[0m\u001b[0mdata\u001b[0m\u001b[0;34m)\u001b[0m\u001b[0;34m\u001b[0m\u001b[0m\n\u001b[1;32m    393\u001b[0m         \u001b[0;32melif\u001b[0m \u001b[0misinstance\u001b[0m\u001b[0;34m(\u001b[0m\u001b[0mself\u001b[0m\u001b[0;34m.\u001b[0m\u001b[0m_io\u001b[0m\u001b[0;34m,\u001b[0m \u001b[0mcompat\u001b[0m\u001b[0;34m.\u001b[0m\u001b[0mstring_types\u001b[0m\u001b[0;34m)\u001b[0m\u001b[0;34m:\u001b[0m\u001b[0;34m\u001b[0m\u001b[0m\n\u001b[0;32m--> 394\u001b[0;31m             \u001b[0mself\u001b[0m\u001b[0;34m.\u001b[0m\u001b[0mbook\u001b[0m \u001b[0;34m=\u001b[0m \u001b[0mxlrd\u001b[0m\u001b[0;34m.\u001b[0m\u001b[0mopen_workbook\u001b[0m\u001b[0;34m(\u001b[0m\u001b[0mself\u001b[0m\u001b[0;34m.\u001b[0m\u001b[0m_io\u001b[0m\u001b[0;34m)\u001b[0m\u001b[0;34m\u001b[0m\u001b[0m\n\u001b[0m\u001b[1;32m    395\u001b[0m         \u001b[0;32melse\u001b[0m\u001b[0;34m:\u001b[0m\u001b[0;34m\u001b[0m\u001b[0m\n\u001b[1;32m    396\u001b[0m             raise ValueError('Must explicitly set engine if not passing in'\n",
      "\u001b[0;32m/Library/Frameworks/Python.framework/Versions/3.7/lib/python3.7/site-packages/xlrd/__init__.py\u001b[0m in \u001b[0;36mopen_workbook\u001b[0;34m(filename, logfile, verbosity, use_mmap, file_contents, encoding_override, formatting_info, on_demand, ragged_rows)\u001b[0m\n\u001b[1;32m    109\u001b[0m     \u001b[0;32melse\u001b[0m\u001b[0;34m:\u001b[0m\u001b[0;34m\u001b[0m\u001b[0m\n\u001b[1;32m    110\u001b[0m         \u001b[0mfilename\u001b[0m \u001b[0;34m=\u001b[0m \u001b[0mos\u001b[0m\u001b[0;34m.\u001b[0m\u001b[0mpath\u001b[0m\u001b[0;34m.\u001b[0m\u001b[0mexpanduser\u001b[0m\u001b[0;34m(\u001b[0m\u001b[0mfilename\u001b[0m\u001b[0;34m)\u001b[0m\u001b[0;34m\u001b[0m\u001b[0m\n\u001b[0;32m--> 111\u001b[0;31m         \u001b[0;32mwith\u001b[0m \u001b[0mopen\u001b[0m\u001b[0;34m(\u001b[0m\u001b[0mfilename\u001b[0m\u001b[0;34m,\u001b[0m \u001b[0;34m\"rb\"\u001b[0m\u001b[0;34m)\u001b[0m \u001b[0;32mas\u001b[0m \u001b[0mf\u001b[0m\u001b[0;34m:\u001b[0m\u001b[0;34m\u001b[0m\u001b[0m\n\u001b[0m\u001b[1;32m    112\u001b[0m             \u001b[0mpeek\u001b[0m \u001b[0;34m=\u001b[0m \u001b[0mf\u001b[0m\u001b[0;34m.\u001b[0m\u001b[0mread\u001b[0m\u001b[0;34m(\u001b[0m\u001b[0mpeeksz\u001b[0m\u001b[0;34m)\u001b[0m\u001b[0;34m\u001b[0m\u001b[0m\n\u001b[1;32m    113\u001b[0m     \u001b[0;32mif\u001b[0m \u001b[0mpeek\u001b[0m \u001b[0;34m==\u001b[0m \u001b[0;34mb\"PK\\x03\\x04\"\u001b[0m\u001b[0;34m:\u001b[0m \u001b[0;31m# a ZIP file\u001b[0m\u001b[0;34m\u001b[0m\u001b[0m\n",
      "\u001b[0;31mFileNotFoundError\u001b[0m: [Errno 2] No such file or directory: 'example.xlsx'"
     ]
    }
   ],
   "source": [
    "a = pd.read_excel(r\"example.xlsx\")"
   ]
  },
  {
   "cell_type": "code",
   "execution_count": 23,
   "metadata": {},
   "outputs": [],
   "source": [
    "x = formatExcel(r\"example.xlsx\")"
   ]
  },
  {
   "cell_type": "code",
   "execution_count": 26,
   "metadata": {},
   "outputs": [
    {
     "name": "stdout",
     "output_type": "stream",
     "text": [
      "[{\"roomNum\": 201, \"conversation\": true, \"religious\": true, \"phone\": \"98765678\", \"contactPhone\": \"4567890987\", \"releaseDate\": 1582367400000.0, \"hafnayaTime\": 1582367400000.0, \"arrivingTime\": 1582367400000.0, \"collectingDate\": 1582367400000.0, \"receptionTime\": 1582367400000.0, \"familyStatus\": \"single\", \"numChildren\": \"0\", \"sex\": \"boy\", \"collectingAddress\": \"pardes hanah gilboa 11\", \"origin\": \"home\", \"sourceHospital\": \"meir\", \"age\": 18, \"apotropus\": \"ddd\", \"birthCountry\": \"Israel\", \"language\": \"hebrew\", \"altContactPhone\": \"3456787654\", \"idNumber\": \"23456787\", \"address\": \"pardes hanah gilboa 11\", \"city\": \"pardes hanah\", \"firstName\": \"shai\", \"lastName\": \"drai\", \"mda\": true, \"comments\": \"no comments\", \"disabilities\": \"no\", \"allergies\": \"no\", \"foodRestrictions\": \"no\", \"guidelines\": false, \"sentToKabala\": true, \"realeased\": false}]\n"
     ]
    }
   ],
   "source": [
    "print(json.dumps(x))"
   ]
  },
  {
   "cell_type": "code",
   "execution_count": 24,
   "metadata": {},
   "outputs": [],
   "source": [
    "import json\n"
   ]
  },
  {
   "cell_type": "code",
   "execution_count": 19,
   "metadata": {},
   "outputs": [],
   "source": [
    "# data format schema\n",
    "prop = {\n",
    "\n",
    "'roomNum': {\n",
    "    'type': 'number',\n",
    "\n",
    "},\n",
    "    \n",
    "    'conversation': {\n",
    "        'type': 'boolean',\n",
    "\n",
    "    },\n",
    "    'religious': {\n",
    "        'type': 'boolean',\n",
    "\n",
    "    },\n",
    "    'phone': {\n",
    "        'type': 'string',\n",
    "\n",
    "    },\n",
    "    'contactPhone': {\n",
    "        'type': 'string',\n",
    "\n",
    "    },\n",
    "\n",
    "    # Dates\n",
    "\n",
    "    'releaseDate': {\n",
    "        'type': 'string',\n",
    "\n",
    "    },\n",
    "    'hafnayaTime': {\n",
    "        'type': 'string',\n",
    "\n",
    "    },\n",
    "    'arrivingTime': {\n",
    "        'type': 'string',\n",
    "\n",
    "    },\n",
    "    'collectingDate': {\n",
    "        'type': 'string',\n",
    "\n",
    "    },\n",
    "    'receptionTime': {\n",
    "        'type': 'string',\n",
    "\n",
    "    },\n",
    "\n",
    "\n",
    "\n",
    "\n",
    "\n",
    "'familyStatus': {\n",
    "    'type': 'string'\n",
    "},\n",
    "'numChildren': {\n",
    "    'type': 'string'\n",
    "},\n",
    "\n",
    "'sex': {\n",
    "    'type': 'string'\n",
    "},\n",
    "\n",
    "'collectingAddress': {\n",
    "    'type': 'string'\n",
    "},\n",
    "\n",
    "'origin': {\n",
    "    'type': 'string'\n",
    "},\n",
    "\n",
    "'sourceHospital': {\n",
    "    'type': 'string'\n",
    "},\n",
    "\n",
    "'age': {\n",
    "    'type': 'number'\n",
    "},\n",
    "\n",
    "'apotropus': {\n",
    "    'type': 'string'\n",
    "},\n",
    "\n",
    "'birthCountry': {\n",
    "    'type': 'string'\n",
    "},\n",
    "\n",
    "'language': {\n",
    "    'type': 'string'\n",
    "},\n",
    "\n",
    "'altContactPhone': {\n",
    "    'type': 'string'\n",
    "},\n",
    "\n",
    "\n",
    "    'idNumber': {\n",
    "        'type': 'string',\n",
    "\n",
    "    },\n",
    "    'address': {\n",
    "        'type': 'string'\n",
    "    },\n",
    "    'city': {\n",
    "        'type': 'string',\n",
    "\n",
    "    },\n",
    "    'firstName': {\n",
    "        'type': 'string',\n",
    "\n",
    "    },\n",
    "    'lastName': {\n",
    "        'type': 'string',\n",
    "\n",
    "    },\n",
    "    'mda': {\n",
    "        'type': 'boolean',\n",
    "\n",
    "    },\n",
    "    'comments': {\n",
    "        'type': 'string',\n",
    "\n",
    "    },\n",
    "    'disabilities': {\n",
    "        'type': 'string',\n",
    "\n",
    "    },\n",
    "    'allergies': {\n",
    "        'type': 'string',\n",
    "\n",
    "    },\n",
    "    'foodRestrictions': {\n",
    "        'type': 'string',\n",
    "\n",
    "    },\n",
    "    'guidelines': {\n",
    "        'type': 'boolean',\n",
    "\n",
    "    },\n",
    "    'sentToKabala': {\n",
    "        'type': 'boolean',\n",
    "\n",
    "    },\n",
    "    'realeased': {\n",
    "        'type': 'boolean',\n",
    "\n",
    "    }\n",
    "    \n",
    "\n",
    "\n",
    "\n",
    "    }\n",
    "\n",
    "\n",
    "schema = {\n",
    "    \"type\": \"object\",\n",
    "    \"properties\": prop,\n",
    "\n",
    "    \"required\":\n",
    "        [\n",
    "         'idNumber',\n",
    "         \n",
    "         'firstName',\n",
    "         'lastName',\n",
    "         'city',\n",
    "         'address',\n",
    "         'phone', \n",
    "            'releaseDate',\n",
    "            'hafnayaTime',\n",
    "            'arrivingTime',\n",
    "            'collectingDate',\n",
    "            'receptionTime',\n",
    "         ]\n",
    "}"
   ]
  },
  {
   "cell_type": "code",
   "execution_count": 3,
   "metadata": {},
   "outputs": [],
   "source": [
    "data = [{'shai':5, 'drai':\"a\"}, {\"shai\":7, 'drai':'b'}]\n",
    "\n"
   ]
  },
  {
   "cell_type": "code",
   "execution_count": 6,
   "metadata": {},
   "outputs": [],
   "source": [
    "d = {}\n",
    "for obj in data:\n",
    "    \n",
    "    for key, val in obj.items():\n",
    "        try:\n",
    "            d[key].append(val)\n",
    "        \n",
    "        except:\n",
    "            d[key] = []\n",
    "            d[key].append(val)"
   ]
  },
  {
   "cell_type": "code",
   "execution_count": 7,
   "metadata": {},
   "outputs": [
    {
     "data": {
      "text/plain": [
       "{'shai': [5, 7], 'drai': ['a', 'b']}"
      ]
     },
     "execution_count": 7,
     "metadata": {},
     "output_type": "execute_result"
    }
   ],
   "source": [
    "d"
   ]
  },
  {
   "cell_type": "code",
   "execution_count": 8,
   "metadata": {},
   "outputs": [
    {
     "data": {
      "text/html": [
       "<div>\n",
       "<style scoped>\n",
       "    .dataframe tbody tr th:only-of-type {\n",
       "        vertical-align: middle;\n",
       "    }\n",
       "\n",
       "    .dataframe tbody tr th {\n",
       "        vertical-align: top;\n",
       "    }\n",
       "\n",
       "    .dataframe thead th {\n",
       "        text-align: right;\n",
       "    }\n",
       "</style>\n",
       "<table border=\"1\" class=\"dataframe\">\n",
       "  <thead>\n",
       "    <tr style=\"text-align: right;\">\n",
       "      <th></th>\n",
       "      <th>shai</th>\n",
       "      <th>drai</th>\n",
       "    </tr>\n",
       "  </thead>\n",
       "  <tbody>\n",
       "    <tr>\n",
       "      <th>0</th>\n",
       "      <td>5</td>\n",
       "      <td>a</td>\n",
       "    </tr>\n",
       "    <tr>\n",
       "      <th>1</th>\n",
       "      <td>7</td>\n",
       "      <td>b</td>\n",
       "    </tr>\n",
       "  </tbody>\n",
       "</table>\n",
       "</div>"
      ],
      "text/plain": [
       "   shai drai\n",
       "0     5    a\n",
       "1     7    b"
      ]
     },
     "execution_count": 8,
     "metadata": {},
     "output_type": "execute_result"
    }
   ],
   "source": [
    "pd.DataFrame(d)"
   ]
  },
  {
   "cell_type": "code",
   "execution_count": 16,
   "metadata": {},
   "outputs": [
    {
     "data": {
      "text/plain": [
       "'[{\"shai\": [5, 7]}, {\"drai\": [\"a\", \"b\"]}]'"
      ]
     },
     "execution_count": 16,
     "metadata": {},
     "output_type": "execute_result"
    }
   ],
   "source": [
    "json.dumps([{'shai': [5, 7]}, {'drai': ['a', 'b']}])"
   ]
  },
  {
   "cell_type": "code",
   "execution_count": 10,
   "metadata": {},
   "outputs": [],
   "source": [
    "\n",
    "import json\n"
   ]
  },
  {
   "cell_type": "code",
   "execution_count": 15,
   "metadata": {},
   "outputs": [
    {
     "data": {
      "text/plain": [
       "5"
      ]
     },
     "execution_count": 15,
     "metadata": {},
     "output_type": "execute_result"
    }
   ],
   "source": [
    "json.loads('{\"shai\":5}')"
   ]
  },
  {
   "cell_type": "code",
   "execution_count": 17,
   "metadata": {},
   "outputs": [],
   "source": [
    "import os"
   ]
  },
  {
   "cell_type": "code",
   "execution_count": 19,
   "metadata": {},
   "outputs": [
    {
     "ename": "TypeError",
     "evalue": "an integer is required (got type str)",
     "output_type": "error",
     "traceback": [
      "\u001b[0;31m---------------------------------------------------------------------------\u001b[0m",
      "\u001b[0;31mTypeError\u001b[0m                                 Traceback (most recent call last)",
      "\u001b[0;32m<ipython-input-19-e4936625f72d>\u001b[0m in \u001b[0;36m<module>\u001b[0;34m\u001b[0m\n\u001b[0;32m----> 1\u001b[0;31m \u001b[0mos\u001b[0m\u001b[0;34m.\u001b[0m\u001b[0mread\u001b[0m\u001b[0;34m(\u001b[0m\u001b[0;34m\"./example.xlsx\"\u001b[0m\u001b[0;34m,\u001b[0m \u001b[0;34m'r'\u001b[0m\u001b[0;34m)\u001b[0m\u001b[0;34m\u001b[0m\u001b[0m\n\u001b[0m",
      "\u001b[0;31mTypeError\u001b[0m: an integer is required (got type str)"
     ]
    }
   ],
   "source": []
  },
  {
   "cell_type": "code",
   "execution_count": null,
   "metadata": {},
   "outputs": [],
   "source": []
  }
 ],
 "metadata": {
  "kernelspec": {
   "display_name": "Python 3",
   "language": "python",
   "name": "python3"
  },
  "language_info": {
   "codemirror_mode": {
    "name": "ipython",
    "version": 3
   },
   "file_extension": ".py",
   "mimetype": "text/x-python",
   "name": "python",
   "nbconvert_exporter": "python",
   "pygments_lexer": "ipython3",
   "version": "3.7.0"
  }
 },
 "nbformat": 4,
 "nbformat_minor": 2
}

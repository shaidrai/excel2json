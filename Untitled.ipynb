{
 "cells": [
  {
   "cell_type": "code",
   "execution_count": 1,
   "metadata": {},
   "outputs": [],
   "source": [
    "import requests\n",
    "import json"
   ]
  },
  {
   "cell_type": "code",
   "execution_count": null,
   "metadata": {},
   "outputs": [],
   "source": [
    "t = {\"shai\":\"drai\"}\n",
    "a = json.dumps(t)\n",
    "url = 'http://10.0.3.161:5000/infecteds/excel'\n",
    "x = requests.post(url, data= a, headers= {'Accept': '*/*',\n",
    "             'Accept-Encoding': 'gzip, deflate',\n",
    "             'Connection': 'close',\n",
    "             'Content-Length': '16',\n",
    "             'Content-Type': 'application/json',\n",
    "             'Host': 'httpbin.org',\n",
    "             'User-Agent': 'python-requests/2.4.3 CPython/3.4.0',\n",
    "             'X-Request-Id': 'xx-xx-xx'})"
   ]
  },
  {
   "cell_type": "code",
   "execution_count": null,
   "metadata": {},
   "outputs": [],
   "source": []
  }
 ],
 "metadata": {
  "kernelspec": {
   "display_name": "Python 3",
   "language": "python",
   "name": "python3"
  },
  "language_info": {
   "codemirror_mode": {
    "name": "ipython",
    "version": 3
   },
   "file_extension": ".py",
   "mimetype": "text/x-python",
   "name": "python",
   "nbconvert_exporter": "python",
   "pygments_lexer": "ipython3",
   "version": "3.7.5"
  }
 },
 "nbformat": 4,
 "nbformat_minor": 2
}

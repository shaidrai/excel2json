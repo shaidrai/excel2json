{
 "cells": [
  {
   "cell_type": "code",
   "execution_count": 1,
   "metadata": {},
   "outputs": [],
   "source": [
    "import pandas as pd\n",
    "import time\n",
    "import jsonschema\n",
    "\n",
    "\n",
    "\n",
    "# Convert the dictionary pandas format to array with objects\n",
    "def pandasDictFormat(ditionary):\n",
    "    data = []\n",
    "    int2string = ['phone','contactPhone','idNumber','numChildren','altContactPhone']\n",
    "                  \n",
    "    for counter in range(len(ditionary['roomNum'])):\n",
    "        dict1 = {}\n",
    "        for key, val in ditionary.items():\n",
    "            if key in int2string:\n",
    "                dict1[key] = str(val[counter])\n",
    "            else:\n",
    "                dict1[key] = val[counter]\n",
    "        data.append(dict1)\n",
    "    return data\n",
    "\n",
    "\n",
    "# Validate the date and time format and replacing it to timestamp\n",
    "def shaiValidate(data):\n",
    "    \n",
    "    dateKeys = ['releaseDate',\n",
    "            'hafnayaTime',\n",
    "            'arrivingTime',\n",
    "            'collectingDate',\n",
    "            'receptionTime']\n",
    "\n",
    "    for key, val in data.items():\n",
    "        if key in dateKeys:\n",
    "            data[key] = time.mktime(time.strptime(val, \"%d.%m.%Y %H:%M\")) * 1000\n",
    "    return data\n",
    "\n",
    "\n",
    "def formatExcel(path):\n",
    "    a = pd.read_excel(path)\n",
    "    data = pandasDictFormat(a.to_dict())\n",
    "\n",
    "    for row in data:\n",
    "        jsonschema.validate(row, schema=schema)\n",
    "        shaiValidate(row)\n",
    "        # Use try except outside of the function\n",
    "    return data\n"
   ]
  },
  {
   "cell_type": "code",
   "execution_count": 2,
   "metadata": {},
   "outputs": [
    {
     "ename": "FileNotFoundError",
     "evalue": "[Errno 2] No such file or directory: 'example.xlsx'",
     "output_type": "error",
     "traceback": [
      "\u001b[0;31m---------------------------------------------------------------------------\u001b[0m",
      "\u001b[0;31mFileNotFoundError\u001b[0m                         Traceback (most recent call last)",
      "\u001b[0;32m<ipython-input-2-f3458ba9179b>\u001b[0m in \u001b[0;36m<module>\u001b[0;34m\u001b[0m\n\u001b[0;32m----> 1\u001b[0;31m \u001b[0ma\u001b[0m \u001b[0;34m=\u001b[0m \u001b[0mpd\u001b[0m\u001b[0;34m.\u001b[0m\u001b[0mread_excel\u001b[0m\u001b[0;34m(\u001b[0m\u001b[0;34mr\"example.xlsx\"\u001b[0m\u001b[0;34m)\u001b[0m\u001b[0;34m\u001b[0m\u001b[0m\n\u001b[0m",
      "\u001b[0;32m/Library/Frameworks/Python.framework/Versions/3.7/lib/python3.7/site-packages/pandas/util/_decorators.py\u001b[0m in \u001b[0;36mwrapper\u001b[0;34m(*args, **kwargs)\u001b[0m\n\u001b[1;32m    176\u001b[0m                 \u001b[0;32melse\u001b[0m\u001b[0;34m:\u001b[0m\u001b[0;34m\u001b[0m\u001b[0m\n\u001b[1;32m    177\u001b[0m                     \u001b[0mkwargs\u001b[0m\u001b[0;34m[\u001b[0m\u001b[0mnew_arg_name\u001b[0m\u001b[0;34m]\u001b[0m \u001b[0;34m=\u001b[0m \u001b[0mnew_arg_value\u001b[0m\u001b[0;34m\u001b[0m\u001b[0m\n\u001b[0;32m--> 178\u001b[0;31m             \u001b[0;32mreturn\u001b[0m \u001b[0mfunc\u001b[0m\u001b[0;34m(\u001b[0m\u001b[0;34m*\u001b[0m\u001b[0margs\u001b[0m\u001b[0;34m,\u001b[0m \u001b[0;34m**\u001b[0m\u001b[0mkwargs\u001b[0m\u001b[0;34m)\u001b[0m\u001b[0;34m\u001b[0m\u001b[0m\n\u001b[0m\u001b[1;32m    179\u001b[0m         \u001b[0;32mreturn\u001b[0m \u001b[0mwrapper\u001b[0m\u001b[0;34m\u001b[0m\u001b[0m\n\u001b[1;32m    180\u001b[0m     \u001b[0;32mreturn\u001b[0m \u001b[0m_deprecate_kwarg\u001b[0m\u001b[0;34m\u001b[0m\u001b[0m\n",
      "\u001b[0;32m/Library/Frameworks/Python.framework/Versions/3.7/lib/python3.7/site-packages/pandas/util/_decorators.py\u001b[0m in \u001b[0;36mwrapper\u001b[0;34m(*args, **kwargs)\u001b[0m\n\u001b[1;32m    176\u001b[0m                 \u001b[0;32melse\u001b[0m\u001b[0;34m:\u001b[0m\u001b[0;34m\u001b[0m\u001b[0m\n\u001b[1;32m    177\u001b[0m                     \u001b[0mkwargs\u001b[0m\u001b[0;34m[\u001b[0m\u001b[0mnew_arg_name\u001b[0m\u001b[0;34m]\u001b[0m \u001b[0;34m=\u001b[0m \u001b[0mnew_arg_value\u001b[0m\u001b[0;34m\u001b[0m\u001b[0m\n\u001b[0;32m--> 178\u001b[0;31m             \u001b[0;32mreturn\u001b[0m \u001b[0mfunc\u001b[0m\u001b[0;34m(\u001b[0m\u001b[0;34m*\u001b[0m\u001b[0margs\u001b[0m\u001b[0;34m,\u001b[0m \u001b[0;34m**\u001b[0m\u001b[0mkwargs\u001b[0m\u001b[0;34m)\u001b[0m\u001b[0;34m\u001b[0m\u001b[0m\n\u001b[0m\u001b[1;32m    179\u001b[0m         \u001b[0;32mreturn\u001b[0m \u001b[0mwrapper\u001b[0m\u001b[0;34m\u001b[0m\u001b[0m\n\u001b[1;32m    180\u001b[0m     \u001b[0;32mreturn\u001b[0m \u001b[0m_deprecate_kwarg\u001b[0m\u001b[0;34m\u001b[0m\u001b[0m\n",
      "\u001b[0;32m/Library/Frameworks/Python.framework/Versions/3.7/lib/python3.7/site-packages/pandas/io/excel.py\u001b[0m in \u001b[0;36mread_excel\u001b[0;34m(io, sheet_name, header, names, index_col, usecols, squeeze, dtype, engine, converters, true_values, false_values, skiprows, nrows, na_values, parse_dates, date_parser, thousands, comment, skipfooter, convert_float, **kwds)\u001b[0m\n\u001b[1;32m    305\u001b[0m \u001b[0;34m\u001b[0m\u001b[0m\n\u001b[1;32m    306\u001b[0m     \u001b[0;32mif\u001b[0m \u001b[0;32mnot\u001b[0m \u001b[0misinstance\u001b[0m\u001b[0;34m(\u001b[0m\u001b[0mio\u001b[0m\u001b[0;34m,\u001b[0m \u001b[0mExcelFile\u001b[0m\u001b[0;34m)\u001b[0m\u001b[0;34m:\u001b[0m\u001b[0;34m\u001b[0m\u001b[0m\n\u001b[0;32m--> 307\u001b[0;31m         \u001b[0mio\u001b[0m \u001b[0;34m=\u001b[0m \u001b[0mExcelFile\u001b[0m\u001b[0;34m(\u001b[0m\u001b[0mio\u001b[0m\u001b[0;34m,\u001b[0m \u001b[0mengine\u001b[0m\u001b[0;34m=\u001b[0m\u001b[0mengine\u001b[0m\u001b[0;34m)\u001b[0m\u001b[0;34m\u001b[0m\u001b[0m\n\u001b[0m\u001b[1;32m    308\u001b[0m \u001b[0;34m\u001b[0m\u001b[0m\n\u001b[1;32m    309\u001b[0m     return io.parse(\n",
      "\u001b[0;32m/Library/Frameworks/Python.framework/Versions/3.7/lib/python3.7/site-packages/pandas/io/excel.py\u001b[0m in \u001b[0;36m__init__\u001b[0;34m(self, io, **kwds)\u001b[0m\n\u001b[1;32m    392\u001b[0m             \u001b[0mself\u001b[0m\u001b[0;34m.\u001b[0m\u001b[0mbook\u001b[0m \u001b[0;34m=\u001b[0m \u001b[0mxlrd\u001b[0m\u001b[0;34m.\u001b[0m\u001b[0mopen_workbook\u001b[0m\u001b[0;34m(\u001b[0m\u001b[0mfile_contents\u001b[0m\u001b[0;34m=\u001b[0m\u001b[0mdata\u001b[0m\u001b[0;34m)\u001b[0m\u001b[0;34m\u001b[0m\u001b[0m\n\u001b[1;32m    393\u001b[0m         \u001b[0;32melif\u001b[0m \u001b[0misinstance\u001b[0m\u001b[0;34m(\u001b[0m\u001b[0mself\u001b[0m\u001b[0;34m.\u001b[0m\u001b[0m_io\u001b[0m\u001b[0;34m,\u001b[0m \u001b[0mcompat\u001b[0m\u001b[0;34m.\u001b[0m\u001b[0mstring_types\u001b[0m\u001b[0;34m)\u001b[0m\u001b[0;34m:\u001b[0m\u001b[0;34m\u001b[0m\u001b[0m\n\u001b[0;32m--> 394\u001b[0;31m             \u001b[0mself\u001b[0m\u001b[0;34m.\u001b[0m\u001b[0mbook\u001b[0m \u001b[0;34m=\u001b[0m \u001b[0mxlrd\u001b[0m\u001b[0;34m.\u001b[0m\u001b[0mopen_workbook\u001b[0m\u001b[0;34m(\u001b[0m\u001b[0mself\u001b[0m\u001b[0;34m.\u001b[0m\u001b[0m_io\u001b[0m\u001b[0;34m)\u001b[0m\u001b[0;34m\u001b[0m\u001b[0m\n\u001b[0m\u001b[1;32m    395\u001b[0m         \u001b[0;32melse\u001b[0m\u001b[0;34m:\u001b[0m\u001b[0;34m\u001b[0m\u001b[0m\n\u001b[1;32m    396\u001b[0m             raise ValueError('Must explicitly set engine if not passing in'\n",
      "\u001b[0;32m/Library/Frameworks/Python.framework/Versions/3.7/lib/python3.7/site-packages/xlrd/__init__.py\u001b[0m in \u001b[0;36mopen_workbook\u001b[0;34m(filename, logfile, verbosity, use_mmap, file_contents, encoding_override, formatting_info, on_demand, ragged_rows)\u001b[0m\n\u001b[1;32m    109\u001b[0m     \u001b[0;32melse\u001b[0m\u001b[0;34m:\u001b[0m\u001b[0;34m\u001b[0m\u001b[0m\n\u001b[1;32m    110\u001b[0m         \u001b[0mfilename\u001b[0m \u001b[0;34m=\u001b[0m \u001b[0mos\u001b[0m\u001b[0;34m.\u001b[0m\u001b[0mpath\u001b[0m\u001b[0;34m.\u001b[0m\u001b[0mexpanduser\u001b[0m\u001b[0;34m(\u001b[0m\u001b[0mfilename\u001b[0m\u001b[0;34m)\u001b[0m\u001b[0;34m\u001b[0m\u001b[0m\n\u001b[0;32m--> 111\u001b[0;31m         \u001b[0;32mwith\u001b[0m \u001b[0mopen\u001b[0m\u001b[0;34m(\u001b[0m\u001b[0mfilename\u001b[0m\u001b[0;34m,\u001b[0m \u001b[0;34m\"rb\"\u001b[0m\u001b[0;34m)\u001b[0m \u001b[0;32mas\u001b[0m \u001b[0mf\u001b[0m\u001b[0;34m:\u001b[0m\u001b[0;34m\u001b[0m\u001b[0m\n\u001b[0m\u001b[1;32m    112\u001b[0m             \u001b[0mpeek\u001b[0m \u001b[0;34m=\u001b[0m \u001b[0mf\u001b[0m\u001b[0;34m.\u001b[0m\u001b[0mread\u001b[0m\u001b[0;34m(\u001b[0m\u001b[0mpeeksz\u001b[0m\u001b[0;34m)\u001b[0m\u001b[0;34m\u001b[0m\u001b[0m\n\u001b[1;32m    113\u001b[0m     \u001b[0;32mif\u001b[0m \u001b[0mpeek\u001b[0m \u001b[0;34m==\u001b[0m \u001b[0;34mb\"PK\\x03\\x04\"\u001b[0m\u001b[0;34m:\u001b[0m \u001b[0;31m# a ZIP file\u001b[0m\u001b[0;34m\u001b[0m\u001b[0m\n",
      "\u001b[0;31mFileNotFoundError\u001b[0m: [Errno 2] No such file or directory: 'example.xlsx'"
     ]
    }
   ],
   "source": [
    "a = pd.read_excel(r\"example.xlsx\")"
   ]
  },
  {
   "cell_type": "code",
   "execution_count": 23,
   "metadata": {},
   "outputs": [],
   "source": [
    "x = formatExcel(r\"example.xlsx\")"
   ]
  },
  {
   "cell_type": "code",
   "execution_count": 26,
   "metadata": {},
   "outputs": [
    {
     "name": "stdout",
     "output_type": "stream",
     "text": [
      "[{\"roomNum\": 201, \"conversation\": true, \"religious\": true, \"phone\": \"98765678\", \"contactPhone\": \"4567890987\", \"releaseDate\": 1582367400000.0, \"hafnayaTime\": 1582367400000.0, \"arrivingTime\": 1582367400000.0, \"collectingDate\": 1582367400000.0, \"receptionTime\": 1582367400000.0, \"familyStatus\": \"single\", \"numChildren\": \"0\", \"sex\": \"boy\", \"collectingAddress\": \"pardes hanah gilboa 11\", \"origin\": \"home\", \"sourceHospital\": \"meir\", \"age\": 18, \"apotropus\": \"ddd\", \"birthCountry\": \"Israel\", \"language\": \"hebrew\", \"altContactPhone\": \"3456787654\", \"idNumber\": \"23456787\", \"address\": \"pardes hanah gilboa 11\", \"city\": \"pardes hanah\", \"firstName\": \"shai\", \"lastName\": \"drai\", \"mda\": true, \"comments\": \"no comments\", \"disabilities\": \"no\", \"allergies\": \"no\", \"foodRestrictions\": \"no\", \"guidelines\": false, \"sentToKabala\": true, \"realeased\": false}]\n"
     ]
    }
   ],
   "source": [
    "print(json.dumps(x))"
   ]
  },
  {
   "cell_type": "code",
   "execution_count": 24,
   "metadata": {},
   "outputs": [],
   "source": [
    "import json\n"
   ]
  },
  {
   "cell_type": "code",
   "execution_count": 19,
   "metadata": {},
   "outputs": [],
   "source": [
    "# data format schema\n",
    "prop = {\n",
    "\n",
    "'roomNum': {\n",
    "    'type': 'number',\n",
    "\n",
    "},\n",
    "    \n",
    "    'conversation': {\n",
    "        'type': 'boolean',\n",
    "\n",
    "    },\n",
    "    'religious': {\n",
    "        'type': 'boolean',\n",
    "\n",
    "    },\n",
    "    'phone': {\n",
    "        'type': 'string',\n",
    "\n",
    "    },\n",
    "    'contactPhone': {\n",
    "        'type': 'string',\n",
    "\n",
    "    },\n",
    "\n",
    "    # Dates\n",
    "\n",
    "    'releaseDate': {\n",
    "        'type': 'string',\n",
    "\n",
    "    },\n",
    "    'hafnayaTime': {\n",
    "        'type': 'string',\n",
    "\n",
    "    },\n",
    "    'arrivingTime': {\n",
    "        'type': 'string',\n",
    "\n",
    "    },\n",
    "    'collectingDate': {\n",
    "        'type': 'string',\n",
    "\n",
    "    },\n",
    "    'receptionTime': {\n",
    "        'type': 'string',\n",
    "\n",
    "    },\n",
    "\n",
    "\n",
    "\n",
    "\n",
    "\n",
    "'familyStatus': {\n",
    "    'type': 'string'\n",
    "},\n",
    "'numChildren': {\n",
    "    'type': 'string'\n",
    "},\n",
    "\n",
    "'sex': {\n",
    "    'type': 'string'\n",
    "},\n",
    "\n",
    "'collectingAddress': {\n",
    "    'type': 'string'\n",
    "},\n",
    "\n",
    "'origin': {\n",
    "    'type': 'string'\n",
    "},\n",
    "\n",
    "'sourceHospital': {\n",
    "    'type': 'string'\n",
    "},\n",
    "\n",
    "'age': {\n",
    "    'type': 'number'\n",
    "},\n",
    "\n",
    "'apotropus': {\n",
    "    'type': 'string'\n",
    "},\n",
    "\n",
    "'birthCountry': {\n",
    "    'type': 'string'\n",
    "},\n",
    "\n",
    "'language': {\n",
    "    'type': 'string'\n",
    "},\n",
    "\n",
    "'altContactPhone': {\n",
    "    'type': 'string'\n",
    "},\n",
    "\n",
    "\n",
    "    'idNumber': {\n",
    "        'type': 'string',\n",
    "\n",
    "    },\n",
    "    'address': {\n",
    "        'type': 'string'\n",
    "    },\n",
    "    'city': {\n",
    "        'type': 'string',\n",
    "\n",
    "    },\n",
    "    'firstName': {\n",
    "        'type': 'string',\n",
    "\n",
    "    },\n",
    "    'lastName': {\n",
    "        'type': 'string',\n",
    "\n",
    "    },\n",
    "    'mda': {\n",
    "        'type': 'boolean',\n",
    "\n",
    "    },\n",
    "    'comments': {\n",
    "        'type': 'string',\n",
    "\n",
    "    },\n",
    "    'disabilities': {\n",
    "        'type': 'string',\n",
    "\n",
    "    },\n",
    "    'allergies': {\n",
    "        'type': 'string',\n",
    "\n",
    "    },\n",
    "    'foodRestrictions': {\n",
    "        'type': 'string',\n",
    "\n",
    "    },\n",
    "    'guidelines': {\n",
    "        'type': 'boolean',\n",
    "\n",
    "    },\n",
    "    'sentToKabala': {\n",
    "        'type': 'boolean',\n",
    "\n",
    "    },\n",
    "    'realeased': {\n",
    "        'type': 'boolean',\n",
    "\n",
    "    }\n",
    "    \n",
    "\n",
    "\n",
    "\n",
    "    }\n",
    "\n",
    "\n",
    "schema = {\n",
    "    \"type\": \"object\",\n",
    "    \"properties\": prop,\n",
    "\n",
    "    \"required\":\n",
    "        [\n",
    "         'idNumber',\n",
    "         \n",
    "         'firstName',\n",
    "         'lastName',\n",
    "         'city',\n",
    "         'address',\n",
    "         'phone', \n",
    "            'releaseDate',\n",
    "            'hafnayaTime',\n",
    "            'arrivingTime',\n",
    "            'collectingDate',\n",
    "            'receptionTime',\n",
    "         ]\n",
    "}"
   ]
  },
  {
   "cell_type": "code",
   "execution_count": 3,
   "metadata": {},
   "outputs": [],
   "source": [
    "data = [{'shai':5, 'drai':\"a\"}, {\"shai\":7, 'drai':'b'}]\n",
    "\n"
   ]
  },
  {
   "cell_type": "code",
   "execution_count": 6,
   "metadata": {},
   "outputs": [],
   "source": [
    "d = {}\n",
    "for obj in data:\n",
    "    \n",
    "    for key, val in obj.items():\n",
    "        try:\n",
    "            d[key].append(val)\n",
    "        \n",
    "        except:\n",
    "            d[key] = []\n",
    "            d[key].append(val)"
   ]
  },
  {
   "cell_type": "code",
   "execution_count": 7,
   "metadata": {},
   "outputs": [
    {
     "data": {
      "text/plain": [
       "{'shai': [5, 7], 'drai': ['a', 'b']}"
      ]
     },
     "execution_count": 7,
     "metadata": {},
     "output_type": "execute_result"
    }
   ],
   "source": [
    "d"
   ]
  },
  {
   "cell_type": "code",
   "execution_count": 8,
   "metadata": {},
   "outputs": [
    {
     "data": {
      "text/html": [
       "<div>\n",
       "<style scoped>\n",
       "    .dataframe tbody tr th:only-of-type {\n",
       "        vertical-align: middle;\n",
       "    }\n",
       "\n",
       "    .dataframe tbody tr th {\n",
       "        vertical-align: top;\n",
       "    }\n",
       "\n",
       "    .dataframe thead th {\n",
       "        text-align: right;\n",
       "    }\n",
       "</style>\n",
       "<table border=\"1\" class=\"dataframe\">\n",
       "  <thead>\n",
       "    <tr style=\"text-align: right;\">\n",
       "      <th></th>\n",
       "      <th>shai</th>\n",
       "      <th>drai</th>\n",
       "    </tr>\n",
       "  </thead>\n",
       "  <tbody>\n",
       "    <tr>\n",
       "      <th>0</th>\n",
       "      <td>5</td>\n",
       "      <td>a</td>\n",
       "    </tr>\n",
       "    <tr>\n",
       "      <th>1</th>\n",
       "      <td>7</td>\n",
       "      <td>b</td>\n",
       "    </tr>\n",
       "  </tbody>\n",
       "</table>\n",
       "</div>"
      ],
      "text/plain": [
       "   shai drai\n",
       "0     5    a\n",
       "1     7    b"
      ]
     },
     "execution_count": 8,
     "metadata": {},
     "output_type": "execute_result"
    }
   ],
   "source": [
    "pd.DataFrame(d)"
   ]
  },
  {
   "cell_type": "code",
   "execution_count": 16,
   "metadata": {},
   "outputs": [
    {
     "data": {
      "text/plain": [
       "'[{\"shai\": [5, 7]}, {\"drai\": [\"a\", \"b\"]}]'"
      ]
     },
     "execution_count": 16,
     "metadata": {},
     "output_type": "execute_result"
    }
   ],
   "source": [
    "json.dumps([{'shai': [5, 7]}, {'drai': ['a', 'b']}])"
   ]
  },
  {
   "cell_type": "code",
   "execution_count": 10,
   "metadata": {},
   "outputs": [],
   "source": [
    "\n",
    "import json\n"
   ]
  },
  {
   "cell_type": "code",
   "execution_count": 15,
   "metadata": {},
   "outputs": [
    {
     "data": {
      "text/plain": [
       "5"
      ]
     },
     "execution_count": 15,
     "metadata": {},
     "output_type": "execute_result"
    }
   ],
   "source": [
    "json.loads('{\"shai\":5}')"
   ]
  },
  {
   "cell_type": "code",
   "execution_count": 17,
   "metadata": {},
   "outputs": [],
   "source": [
    "import os"
   ]
  },
  {
   "cell_type": "code",
   "execution_count": 19,
   "metadata": {},
   "outputs": [
    {
     "ename": "TypeError",
     "evalue": "an integer is required (got type str)",
     "output_type": "error",
     "traceback": [
      "\u001b[0;31m---------------------------------------------------------------------------\u001b[0m",
      "\u001b[0;31mTypeError\u001b[0m                                 Traceback (most recent call last)",
      "\u001b[0;32m<ipython-input-19-e4936625f72d>\u001b[0m in \u001b[0;36m<module>\u001b[0;34m\u001b[0m\n\u001b[0;32m----> 1\u001b[0;31m \u001b[0mos\u001b[0m\u001b[0;34m.\u001b[0m\u001b[0mread\u001b[0m\u001b[0;34m(\u001b[0m\u001b[0;34m\"./example.xlsx\"\u001b[0m\u001b[0;34m,\u001b[0m \u001b[0;34m'r'\u001b[0m\u001b[0;34m)\u001b[0m\u001b[0;34m\u001b[0m\u001b[0m\n\u001b[0m",
      "\u001b[0;31mTypeError\u001b[0m: an integer is required (got type str)"
     ]
    }
   ],
   "source": []
  },
  {
   "cell_type": "code",
   "execution_count": 20,
   "metadata": {},
   "outputs": [
    {
     "ename": "NameError",
     "evalue": "name 'false' is not defined",
     "output_type": "error",
     "traceback": [
      "\u001b[0;31m---------------------------------------------------------------------------\u001b[0m",
      "\u001b[0;31mNameError\u001b[0m                                 Traceback (most recent call last)",
      "\u001b[0;32m<ipython-input-20-222c40c1f2ec>\u001b[0m in \u001b[0;36m<module>\u001b[0;34m\u001b[0m\n\u001b[0;32m----> 1\u001b[0;31m \u001b[0ma\u001b[0m \u001b[0;34m=\u001b[0m \u001b[0;34m[\u001b[0m\u001b[0;34m{\u001b[0m\u001b[0;34m\"religious\"\u001b[0m\u001b[0;34m:\u001b[0m\u001b[0mfalse\u001b[0m\u001b[0;34m,\u001b[0m\u001b[0;34m\"id\"\u001b[0m\u001b[0;34m:\u001b[0m\u001b[0;34m\"5e76898193b5cf004976b2a8\"\u001b[0m\u001b[0;34m,\u001b[0m\u001b[0;34m\"IDNumber\"\u001b[0m\u001b[0;34m:\u001b[0m\u001b[0;34m\"027787829\"\u001b[0m\u001b[0;34m,\u001b[0m\u001b[0;34m\"firstName\"\u001b[0m\u001b[0;34m:\u001b[0m\u001b[0;34m\"גיל\"\u001b[0m\u001b[0;34m,\u001b[0m\u001b[0;34m\"lastName\"\u001b[0m\u001b[0;34m:\u001b[0m\u001b[0;34m\"טייכמן\"\u001b[0m\u001b[0;34m,\u001b[0m\u001b[0;34m\"city\"\u001b[0m\u001b[0;34m:\u001b[0m\u001b[0;34m\"תקומה\"\u001b[0m\u001b[0;34m,\u001b[0m\u001b[0;34m\"address\"\u001b[0m\u001b[0;34m:\u001b[0m\u001b[0;34m\"תקומה\"\u001b[0m\u001b[0;34m,\u001b[0m\u001b[0;34m\"phone\"\u001b[0m\u001b[0;34m:\u001b[0m\u001b[0;34m\"0547792925\"\u001b[0m\u001b[0;34m,\u001b[0m\u001b[0;34m\"hafnayaTime\"\u001b[0m\u001b[0;34m:\u001b[0m\u001b[0;34m\"2020-03-21T21:31:00.000Z\"\u001b[0m\u001b[0;34m,\u001b[0m\u001b[0;34m\"receptionTime\"\u001b[0m\u001b[0;34m:\u001b[0m\u001b[0;34m\"2020-03-22T06:00:00.000Z\"\u001b[0m\u001b[0;34m,\u001b[0m\u001b[0;34m\"familyStatus\"\u001b[0m\u001b[0;34m:\u001b[0m\u001b[0;34m\"נשוי/ה\"\u001b[0m\u001b[0;34m,\u001b[0m\u001b[0;34m\"numChildren\"\u001b[0m\u001b[0;34m:\u001b[0m\u001b[0;36m3\u001b[0m\u001b[0;34m,\u001b[0m\u001b[0;34m\"sex\"\u001b[0m\u001b[0;34m:\u001b[0m\u001b[0;34m\"זכר\"\u001b[0m\u001b[0;34m,\u001b[0m\u001b[0;34m\"kupatHolim\"\u001b[0m\u001b[0;34m:\u001b[0m\u001b[0;34m\"כללית\"\u001b[0m\u001b[0;34m,\u001b[0m\u001b[0;34m\"mda\"\u001b[0m\u001b[0;34m:\u001b[0m\u001b[0mtrue\u001b[0m\u001b[0;34m,\u001b[0m\u001b[0;34m\"collectingDate\"\u001b[0m\u001b[0;34m:\u001b[0m\u001b[0;34m\"2020-03-20T07:05:00.000Z\"\u001b[0m\u001b[0;34m,\u001b[0m\u001b[0;34m\"collectingAddress\"\u001b[0m\u001b[0;34m:\u001b[0m\u001b[0;34m\"תקומה 36\"\u001b[0m\u001b[0;34m,\u001b[0m\u001b[0;34m\"origin\"\u001b[0m\u001b[0;34m:\u001b[0m\u001b[0;34m\"מהבית\"\u001b[0m\u001b[0;34m,\u001b[0m\u001b[0;34m\"conversation\"\u001b[0m\u001b[0;34m:\u001b[0m\u001b[0mtrue\u001b[0m\u001b[0;34m,\u001b[0m\u001b[0;34m\"arrivingTime\"\u001b[0m\u001b[0;34m:\u001b[0m\u001b[0;34m\"2020-03-21T08:37:18.718Z\"\u001b[0m\u001b[0;34m,\u001b[0m\u001b[0;34m\"age\"\u001b[0m\u001b[0;34m:\u001b[0m\u001b[0;36m50\u001b[0m\u001b[0;34m,\u001b[0m\u001b[0;34m\"apotropus\"\u001b[0m\u001b[0;34m:\u001b[0m\u001b[0;34m\"\"\u001b[0m\u001b[0;34m,\u001b[0m\u001b[0;34m\"birthCountry\"\u001b[0m\u001b[0;34m:\u001b[0m\u001b[0;34m\"ישראל\"\u001b[0m\u001b[0;34m,\u001b[0m\u001b[0;34m\"language\"\u001b[0m\u001b[0;34m:\u001b[0m\u001b[0;34m\"עברית\"\u001b[0m\u001b[0;34m,\u001b[0m\u001b[0;34m\"contactPhone\"\u001b[0m\u001b[0;34m:\u001b[0m\u001b[0;34m\"0547792925\"\u001b[0m\u001b[0;34m,\u001b[0m\u001b[0;34m\"altContactPhone\"\u001b[0m\u001b[0;34m:\u001b[0m\u001b[0;34m\"0547792803\"\u001b[0m\u001b[0;34m,\u001b[0m\u001b[0;34m\"roomNum\"\u001b[0m\u001b[0;34m:\u001b[0m\u001b[0;36m1805\u001b[0m\u001b[0;34m,\u001b[0m\u001b[0;34m\"releaseDate\"\u001b[0m\u001b[0;34m:\u001b[0m\u001b[0mnull\u001b[0m\u001b[0;34m,\u001b[0m\u001b[0;34m\"comments\"\u001b[0m\u001b[0;34m:\u001b[0m\u001b[0;34m\"\"\u001b[0m\u001b[0;34m,\u001b[0m\u001b[0;34m\"disabilities\"\u001b[0m\u001b[0;34m:\u001b[0m\u001b[0;34m\"\"\u001b[0m\u001b[0;34m,\u001b[0m\u001b[0;34m\"allergies\"\u001b[0m\u001b[0;34m:\u001b[0m\u001b[0;34m\"\"\u001b[0m\u001b[0;34m,\u001b[0m\u001b[0;34m\"foodRestrictions\"\u001b[0m\u001b[0;34m:\u001b[0m\u001b[0;34m\"\"\u001b[0m\u001b[0;34m,\u001b[0m\u001b[0;34m\"status\"\u001b[0m\u001b[0;34m:\u001b[0m\u001b[0;34m\"עתיד להיקלט\"\u001b[0m\u001b[0;34m,\u001b[0m\u001b[0;34m\"guidelines\"\u001b[0m\u001b[0;34m:\u001b[0m\u001b[0mfalse\u001b[0m\u001b[0;34m,\u001b[0m\u001b[0;34m\"sentToKabala\"\u001b[0m\u001b[0;34m:\u001b[0m\u001b[0mfalse\u001b[0m\u001b[0;34m,\u001b[0m\u001b[0;34m\"hotel\"\u001b[0m\u001b[0;34m:\u001b[0m\u001b[0;34m\"5e704991cc90f03c9c4bb3e4\"\u001b[0m\u001b[0;34m,\u001b[0m\u001b[0;34m\"hotelName\"\u001b[0m\u001b[0;34m:\u001b[0m\u001b[0;34m\"danTelaviv\"\u001b[0m\u001b[0;34m,\u001b[0m\u001b[0;34m\"serialNumber\"\u001b[0m\u001b[0;34m:\u001b[0m\u001b[0;36m3\u001b[0m\u001b[0;34m,\u001b[0m\u001b[0;34m\"v\"\u001b[0m\u001b[0;34m:\u001b[0m\u001b[0;36m0\u001b[0m\u001b[0;34m}\u001b[0m\u001b[0;34m,\u001b[0m\u001b[0;34m{\u001b[0m\u001b[0;34m\"religious\"\u001b[0m\u001b[0;34m:\u001b[0m\u001b[0mfalse\u001b[0m\u001b[0;34m,\u001b[0m\u001b[0;34m\"_id\"\u001b[0m\u001b[0;34m:\u001b[0m\u001b[0;34m\"5e77732493b5cf004976b2b6\"\u001b[0m\u001b[0;34m,\u001b[0m\u001b[0;34m\"IDNumber\"\u001b[0m\u001b[0;34m:\u001b[0m\u001b[0;34m\"123456789\"\u001b[0m\u001b[0;34m,\u001b[0m\u001b[0;34m\"firstName\"\u001b[0m\u001b[0;34m:\u001b[0m\u001b[0;34m\"אלכס\"\u001b[0m\u001b[0;34m,\u001b[0m\u001b[0;34m\"lastName\"\u001b[0m\u001b[0;34m:\u001b[0m\u001b[0;34m\"יזר\"\u001b[0m\u001b[0;34m,\u001b[0m\u001b[0;34m\"city\"\u001b[0m\u001b[0;34m:\u001b[0m\u001b[0;34m\"חיפה\"\u001b[0m\u001b[0;34m,\u001b[0m\u001b[0;34m\"address\"\u001b[0m\u001b[0;34m:\u001b[0m\u001b[0;34m\"מוריה 43\"\u001b[0m\u001b[0;34m,\u001b[0m\u001b[0;34m\"phone\"\u001b[0m\u001b[0;34m:\u001b[0m\u001b[0;34m\"0532267598\"\u001b[0m\u001b[0;34m,\u001b[0m\u001b[0;34m\"hafnayaTime\"\u001b[0m\u001b[0;34m:\u001b[0m\u001b[0mnull\u001b[0m\u001b[0;34m,\u001b[0m\u001b[0;34m\"receptionTime\"\u001b[0m\u001b[0;34m:\u001b[0m\u001b[0mnull\u001b[0m\u001b[0;34m,\u001b[0m\u001b[0;34m\"familyStatus\"\u001b[0m\u001b[0;34m:\u001b[0m\u001b[0;34m\"רווק/ה\"\u001b[0m\u001b[0;34m,\u001b[0m\u001b[0;34m\"numChildren\"\u001b[0m\u001b[0;34m:\u001b[0m\u001b[0;36m1\u001b[0m\u001b[0;34m,\u001b[0m\u001b[0;34m\"sex\"\u001b[0m\u001b[0;34m:\u001b[0m\u001b[0;34m\"זכר\"\u001b[0m\u001b[0;34m,\u001b[0m\u001b[0;34m\"kupatHolim\"\u001b[0m\u001b[0;34m:\u001b[0m\u001b[0;34m\"כללית\"\u001b[0m\u001b[0;34m,\u001b[0m\u001b[0;34m\"mda\"\u001b[0m\u001b[0;34m:\u001b[0m\u001b[0mfalse\u001b[0m\u001b[0;34m,\u001b[0m\u001b[0;34m\"collectingDate\"\u001b[0m\u001b[0;34m:\u001b[0m\u001b[0mnull\u001b[0m\u001b[0;34m,\u001b[0m\u001b[0;34m\"collectingAddress\"\u001b[0m\u001b[0;34m:\u001b[0m\u001b[0;34m\"\"\u001b[0m\u001b[0;34m,\u001b[0m\u001b[0;34m\"origin\"\u001b[0m\u001b[0;34m:\u001b[0m\u001b[0;34m\"\"\u001b[0m\u001b[0;34m,\u001b[0m\u001b[0;34m\"conversation\"\u001b[0m\u001b[0;34m:\u001b[0m\u001b[0mfalse\u001b[0m\u001b[0;34m,\u001b[0m\u001b[0;34m\"arrivingTime\"\u001b[0m\u001b[0;34m:\u001b[0m\u001b[0mnull\u001b[0m\u001b[0;34m,\u001b[0m\u001b[0;34m\"age\"\u001b[0m\u001b[0;34m:\u001b[0m\u001b[0;36m36\u001b[0m\u001b[0;34m,\u001b[0m\u001b[0;34m\"apotropus\"\u001b[0m\u001b[0;34m:\u001b[0m\u001b[0;34m\"\"\u001b[0m\u001b[0;34m,\u001b[0m\u001b[0;34m\"birthCountry\"\u001b[0m\u001b[0;34m:\u001b[0m\u001b[0;34m\"\"\u001b[0m\u001b[0;34m,\u001b[0m\u001b[0;34m\"language\"\u001b[0m\u001b[0;34m:\u001b[0m\u001b[0;34m\"\"\u001b[0m\u001b[0;34m,\u001b[0m\u001b[0;34m\"contactPhone\"\u001b[0m\u001b[0;34m:\u001b[0m\u001b[0;34m\"\"\u001b[0m\u001b[0;34m,\u001b[0m\u001b[0;34m\"altContactPhone\"\u001b[0m\u001b[0;34m:\u001b[0m\u001b[0;34m\"\"\u001b[0m\u001b[0;34m,\u001b[0m\u001b[0;34m\"roomNum\"\u001b[0m\u001b[0;34m:\u001b[0m\u001b[0mnull\u001b[0m\u001b[0;34m,\u001b[0m\u001b[0;34m\"releaseDate\"\u001b[0m\u001b[0;34m:\u001b[0m\u001b[0mnull\u001b[0m\u001b[0;34m,\u001b[0m\u001b[0;34m\"comments\"\u001b[0m\u001b[0;34m:\u001b[0m\u001b[0;34m\"\"\u001b[0m\u001b[0;34m,\u001b[0m\u001b[0;34m\"disabilities\"\u001b[0m\u001b[0;34m:\u001b[0m\u001b[0;34m\"\"\u001b[0m\u001b[0;34m,\u001b[0m\u001b[0;34m\"allergies\"\u001b[0m\u001b[0;34m:\u001b[0m\u001b[0;34m\"\"\u001b[0m\u001b[0;34m,\u001b[0m\u001b[0;34m\"foodRestrictions\"\u001b[0m\u001b[0;34m:\u001b[0m\u001b[0;34m\"\"\u001b[0m\u001b[0;34m,\u001b[0m\u001b[0;34m\"status\"\u001b[0m\u001b[0;34m:\u001b[0m\u001b[0;34m\"עתיד להיקלט\"\u001b[0m\u001b[0;34m,\u001b[0m\u001b[0;34m\"guidelines\"\u001b[0m\u001b[0;34m:\u001b[0m\u001b[0mfalse\u001b[0m\u001b[0;34m,\u001b[0m\u001b[0;34m\"sentToKabala\"\u001b[0m\u001b[0;34m:\u001b[0m\u001b[0mfalse\u001b[0m\u001b[0;34m,\u001b[0m\u001b[0;34m\"hotel\"\u001b[0m\u001b[0;34m:\u001b[0m\u001b[0;34m\"5e704991cc90f03c9c4bb3e4\"\u001b[0m\u001b[0;34m,\u001b[0m\u001b[0;34m\"hotelName\"\u001b[0m\u001b[0;34m:\u001b[0m\u001b[0;34m\"danTelaviv\"\u001b[0m\u001b[0;34m,\u001b[0m\u001b[0;34m\"serialNumber\"\u001b[0m\u001b[0;34m:\u001b[0m\u001b[0;36m3\u001b[0m\u001b[0;34m,\u001b[0m\u001b[0;34m\"_v\"\u001b[0m\u001b[0;34m:\u001b[0m\u001b[0;36m0\u001b[0m\u001b[0;34m}\u001b[0m\u001b[0;34m]\u001b[0m\u001b[0;34m\u001b[0m\u001b[0m\n\u001b[0m",
      "\u001b[0;31mNameError\u001b[0m: name 'false' is not defined"
     ]
    }
   ],
   "source": [
    "a = [{\"religious\":false,\"id\":\"5e76898193b5cf004976b2a8\",\"IDNumber\":\"027787829\",\"firstName\":\"גיל\",\"lastName\":\"טייכמן\",\"city\":\"תקומה\",\"address\":\"תקומה\",\"phone\":\"0547792925\",\"hafnayaTime\":\"2020-03-21T21:31:00.000Z\",\"receptionTime\":\"2020-03-22T06:00:00.000Z\",\"familyStatus\":\"נשוי/ה\",\"numChildren\":3,\"sex\":\"זכר\",\"kupatHolim\":\"כללית\",\"mda\":true,\"collectingDate\":\"2020-03-20T07:05:00.000Z\",\"collectingAddress\":\"תקומה 36\",\"origin\":\"מהבית\",\"conversation\":true,\"arrivingTime\":\"2020-03-21T08:37:18.718Z\",\"age\":50,\"apotropus\":\"\",\"birthCountry\":\"ישראל\",\"language\":\"עברית\",\"contactPhone\":\"0547792925\",\"altContactPhone\":\"0547792803\",\"roomNum\":1805,\"releaseDate\":null,\"comments\":\"\",\"disabilities\":\"\",\"allergies\":\"\",\"foodRestrictions\":\"\",\"status\":\"עתיד להיקלט\",\"guidelines\":false,\"sentToKabala\":false,\"hotel\":\"5e704991cc90f03c9c4bb3e4\",\"hotelName\":\"danTelaviv\",\"serialNumber\":3,\"v\":0},{\"religious\":false,\"_id\":\"5e77732493b5cf004976b2b6\",\"IDNumber\":\"123456789\",\"firstName\":\"אלכס\",\"lastName\":\"יזר\",\"city\":\"חיפה\",\"address\":\"מוריה 43\",\"phone\":\"0532267598\",\"hafnayaTime\":null,\"receptionTime\":null,\"familyStatus\":\"רווק/ה\",\"numChildren\":1,\"sex\":\"זכר\",\"kupatHolim\":\"כללית\",\"mda\":false,\"collectingDate\":null,\"collectingAddress\":\"\",\"origin\":\"\",\"conversation\":false,\"arrivingTime\":null,\"age\":36,\"apotropus\":\"\",\"birthCountry\":\"\",\"language\":\"\",\"contactPhone\":\"\",\"altContactPhone\":\"\",\"roomNum\":null,\"releaseDate\":null,\"comments\":\"\",\"disabilities\":\"\",\"allergies\":\"\",\"foodRestrictions\":\"\",\"status\":\"עתיד להיקלט\",\"guidelines\":false,\"sentToKabala\":false,\"hotel\":\"5e704991cc90f03c9c4bb3e4\",\"hotelName\":\"danTelaviv\",\"serialNumber\":3,\"_v\":0}]"
   ]
  },
  {
   "cell_type": "code",
   "execution_count": 27,
   "metadata": {},
   "outputs": [],
   "source": [
    "a= json.loads('''[{\"religious\":false,\"id\":\"5e76898193b5cf004976b2a8\",\"IDNumber\":\"027787829\",\"firstName\":\"גיל\",\"lastName\":\"טייכמן\",\"city\":\"תקומה\",\"address\":\"תקומה\",\"phone\":\"0547792925\",\"hafnayaTime\":\"2020-03-21T21:31:00.000Z\",\"receptionTime\":\"2020-03-22T06:00:00.000Z\",\"familyStatus\":\"נשוי/ה\",\"numChildren\":3,\"sex\":\"זכר\",\"kupatHolim\":\"כללית\",\"mda\":true,\"collectingDate\":\"2020-03-20T07:05:00.000Z\",\"collectingAddress\":\"תקומה 36\",\"origin\":\"מהבית\",\"conversation\":true,\"arrivingTime\":\"2020-03-21T08:37:18.718Z\",\"age\":50,\"apotropus\":\"\",\"birthCountry\":\"ישראל\",\"language\":\"עברית\",\"contactPhone\":\"0547792925\",\"altContactPhone\":\"0547792803\",\"roomNum\":1805,\"releaseDate\":null,\"comments\":\"\",\"disabilities\":\"\",\"allergies\":\"\",\"foodRestrictions\":\"\",\"status\":\"עתיד להיקלט\",\"guidelines\":false,\"sentToKabala\":false,\"hotel\":\"5e704991cc90f03c9c4bb3e4\",\"hotelName\":\"danTelaviv\",\"serialNumber\":3,\"v\":0},{\"religious\":false,\"_id\":\"5e77732493b5cf004976b2b6\",\"IDNumber\":\"123456789\",\"firstName\":\"אלכס\",\"lastName\":\"יזר\",\"city\":\"חיפה\",\"address\":\"מוריה 43\",\"phone\":\"0532267598\",\"hafnayaTime\":null,\"receptionTime\":null,\"familyStatus\":\"רווק/ה\",\"numChildren\":1,\"sex\":\"זכר\",\"kupatHolim\":\"כללית\",\"mda\":false,\"collectingDate\":null,\"collectingAddress\":\"\",\"origin\":\"\",\"conversation\":false,\"arrivingTime\":null,\"age\":36,\"apotropus\":\"\",\"birthCountry\":\"\",\"language\":\"\",\"contactPhone\":\"\",\"altContactPhone\":\"\",\"roomNum\":null,\"releaseDate\":null,\"comments\":\"\",\"disabilities\":\"\",\"allergies\":\"\",\"foodRestrictions\":\"\",\"status\":\"עתיד להיקלט\",\"guidelines\":false,\"sentToKabala\":false,\"hotel\":\"5e704991cc90f03c9c4bb3e4\",\"hotelName\":\"danTelaviv\",\"serialNumber\":3,\"_v\":0}]''')"
   ]
  },
  {
   "cell_type": "code",
   "execution_count": 23,
   "metadata": {},
   "outputs": [],
   "source": [
    "import excel2json"
   ]
  },
  {
   "cell_type": "code",
   "execution_count": 24,
   "metadata": {},
   "outputs": [
    {
     "ename": "ValueError",
     "evalue": "arrays must all be same length",
     "output_type": "error",
     "traceback": [
      "\u001b[0;31m---------------------------------------------------------------------------\u001b[0m",
      "\u001b[0;31mValueError\u001b[0m                                Traceback (most recent call last)",
      "\u001b[0;32m<ipython-input-24-d926a236eae9>\u001b[0m in \u001b[0;36m<module>\u001b[0;34m\u001b[0m\n\u001b[0;32m----> 1\u001b[0;31m \u001b[0mexcel2json\u001b[0m\u001b[0;34m.\u001b[0m\u001b[0mformatJson\u001b[0m\u001b[0;34m(\u001b[0m\u001b[0ma\u001b[0m\u001b[0;34m)\u001b[0m\u001b[0;34m\u001b[0m\u001b[0m\n\u001b[0m",
      "\u001b[0;32m~/Desktop/excel2json/excel2json.py\u001b[0m in \u001b[0;36mformatJson\u001b[0;34m(data)\u001b[0m\n\u001b[1;32m     65\u001b[0m                 \u001b[0md\u001b[0m\u001b[0;34m[\u001b[0m\u001b[0mkey\u001b[0m\u001b[0;34m]\u001b[0m\u001b[0;34m.\u001b[0m\u001b[0mappend\u001b[0m\u001b[0;34m(\u001b[0m\u001b[0mval\u001b[0m\u001b[0;34m)\u001b[0m\u001b[0;34m\u001b[0m\u001b[0m\n\u001b[1;32m     66\u001b[0m \u001b[0;34m\u001b[0m\u001b[0m\n\u001b[0;32m---> 67\u001b[0;31m     \u001b[0mdata\u001b[0m \u001b[0;34m=\u001b[0m \u001b[0mpd\u001b[0m\u001b[0;34m.\u001b[0m\u001b[0mDataFrame\u001b[0m\u001b[0;34m(\u001b[0m\u001b[0md\u001b[0m\u001b[0;34m)\u001b[0m\u001b[0;34m\u001b[0m\u001b[0m\n\u001b[0m\u001b[1;32m     68\u001b[0m \u001b[0;34m\u001b[0m\u001b[0m\n\u001b[1;32m     69\u001b[0m     \u001b[0mdata\u001b[0m\u001b[0;34m.\u001b[0m\u001b[0mto_excel\u001b[0m\u001b[0;34m(\u001b[0m\u001b[0;34m'excel.xlsx'\u001b[0m\u001b[0;34m)\u001b[0m\u001b[0;34m\u001b[0m\u001b[0m\n",
      "\u001b[0;32m/Library/Frameworks/Python.framework/Versions/3.7/lib/python3.7/site-packages/pandas/core/frame.py\u001b[0m in \u001b[0;36m__init__\u001b[0;34m(self, data, index, columns, dtype, copy)\u001b[0m\n\u001b[1;32m    346\u001b[0m                                  dtype=dtype, copy=copy)\n\u001b[1;32m    347\u001b[0m         \u001b[0;32melif\u001b[0m \u001b[0misinstance\u001b[0m\u001b[0;34m(\u001b[0m\u001b[0mdata\u001b[0m\u001b[0;34m,\u001b[0m \u001b[0mdict\u001b[0m\u001b[0;34m)\u001b[0m\u001b[0;34m:\u001b[0m\u001b[0;34m\u001b[0m\u001b[0m\n\u001b[0;32m--> 348\u001b[0;31m             \u001b[0mmgr\u001b[0m \u001b[0;34m=\u001b[0m \u001b[0mself\u001b[0m\u001b[0;34m.\u001b[0m\u001b[0m_init_dict\u001b[0m\u001b[0;34m(\u001b[0m\u001b[0mdata\u001b[0m\u001b[0;34m,\u001b[0m \u001b[0mindex\u001b[0m\u001b[0;34m,\u001b[0m \u001b[0mcolumns\u001b[0m\u001b[0;34m,\u001b[0m \u001b[0mdtype\u001b[0m\u001b[0;34m=\u001b[0m\u001b[0mdtype\u001b[0m\u001b[0;34m)\u001b[0m\u001b[0;34m\u001b[0m\u001b[0m\n\u001b[0m\u001b[1;32m    349\u001b[0m         \u001b[0;32melif\u001b[0m \u001b[0misinstance\u001b[0m\u001b[0;34m(\u001b[0m\u001b[0mdata\u001b[0m\u001b[0;34m,\u001b[0m \u001b[0mma\u001b[0m\u001b[0;34m.\u001b[0m\u001b[0mMaskedArray\u001b[0m\u001b[0;34m)\u001b[0m\u001b[0;34m:\u001b[0m\u001b[0;34m\u001b[0m\u001b[0m\n\u001b[1;32m    350\u001b[0m             \u001b[0;32mimport\u001b[0m \u001b[0mnumpy\u001b[0m\u001b[0;34m.\u001b[0m\u001b[0mma\u001b[0m\u001b[0;34m.\u001b[0m\u001b[0mmrecords\u001b[0m \u001b[0;32mas\u001b[0m \u001b[0mmrecords\u001b[0m\u001b[0;34m\u001b[0m\u001b[0m\n",
      "\u001b[0;32m/Library/Frameworks/Python.framework/Versions/3.7/lib/python3.7/site-packages/pandas/core/frame.py\u001b[0m in \u001b[0;36m_init_dict\u001b[0;34m(self, data, index, columns, dtype)\u001b[0m\n\u001b[1;32m    457\u001b[0m             \u001b[0marrays\u001b[0m \u001b[0;34m=\u001b[0m \u001b[0;34m[\u001b[0m\u001b[0mdata\u001b[0m\u001b[0;34m[\u001b[0m\u001b[0mk\u001b[0m\u001b[0;34m]\u001b[0m \u001b[0;32mfor\u001b[0m \u001b[0mk\u001b[0m \u001b[0;32min\u001b[0m \u001b[0mkeys\u001b[0m\u001b[0;34m]\u001b[0m\u001b[0;34m\u001b[0m\u001b[0m\n\u001b[1;32m    458\u001b[0m \u001b[0;34m\u001b[0m\u001b[0m\n\u001b[0;32m--> 459\u001b[0;31m         \u001b[0;32mreturn\u001b[0m \u001b[0m_arrays_to_mgr\u001b[0m\u001b[0;34m(\u001b[0m\u001b[0marrays\u001b[0m\u001b[0;34m,\u001b[0m \u001b[0mdata_names\u001b[0m\u001b[0;34m,\u001b[0m \u001b[0mindex\u001b[0m\u001b[0;34m,\u001b[0m \u001b[0mcolumns\u001b[0m\u001b[0;34m,\u001b[0m \u001b[0mdtype\u001b[0m\u001b[0;34m=\u001b[0m\u001b[0mdtype\u001b[0m\u001b[0;34m)\u001b[0m\u001b[0;34m\u001b[0m\u001b[0m\n\u001b[0m\u001b[1;32m    460\u001b[0m \u001b[0;34m\u001b[0m\u001b[0m\n\u001b[1;32m    461\u001b[0m     \u001b[0;32mdef\u001b[0m \u001b[0m_init_ndarray\u001b[0m\u001b[0;34m(\u001b[0m\u001b[0mself\u001b[0m\u001b[0;34m,\u001b[0m \u001b[0mvalues\u001b[0m\u001b[0;34m,\u001b[0m \u001b[0mindex\u001b[0m\u001b[0;34m,\u001b[0m \u001b[0mcolumns\u001b[0m\u001b[0;34m,\u001b[0m \u001b[0mdtype\u001b[0m\u001b[0;34m=\u001b[0m\u001b[0;32mNone\u001b[0m\u001b[0;34m,\u001b[0m \u001b[0mcopy\u001b[0m\u001b[0;34m=\u001b[0m\u001b[0;32mFalse\u001b[0m\u001b[0;34m)\u001b[0m\u001b[0;34m:\u001b[0m\u001b[0;34m\u001b[0m\u001b[0m\n",
      "\u001b[0;32m/Library/Frameworks/Python.framework/Versions/3.7/lib/python3.7/site-packages/pandas/core/frame.py\u001b[0m in \u001b[0;36m_arrays_to_mgr\u001b[0;34m(arrays, arr_names, index, columns, dtype)\u001b[0m\n\u001b[1;32m   7354\u001b[0m     \u001b[0;31m# figure out the index, if necessary\u001b[0m\u001b[0;34m\u001b[0m\u001b[0;34m\u001b[0m\u001b[0m\n\u001b[1;32m   7355\u001b[0m     \u001b[0;32mif\u001b[0m \u001b[0mindex\u001b[0m \u001b[0;32mis\u001b[0m \u001b[0;32mNone\u001b[0m\u001b[0;34m:\u001b[0m\u001b[0;34m\u001b[0m\u001b[0m\n\u001b[0;32m-> 7356\u001b[0;31m         \u001b[0mindex\u001b[0m \u001b[0;34m=\u001b[0m \u001b[0mextract_index\u001b[0m\u001b[0;34m(\u001b[0m\u001b[0marrays\u001b[0m\u001b[0;34m)\u001b[0m\u001b[0;34m\u001b[0m\u001b[0m\n\u001b[0m\u001b[1;32m   7357\u001b[0m \u001b[0;34m\u001b[0m\u001b[0m\n\u001b[1;32m   7358\u001b[0m     \u001b[0;31m# don't force copy because getting jammed in an ndarray anyway\u001b[0m\u001b[0;34m\u001b[0m\u001b[0;34m\u001b[0m\u001b[0m\n",
      "\u001b[0;32m/Library/Frameworks/Python.framework/Versions/3.7/lib/python3.7/site-packages/pandas/core/frame.py\u001b[0m in \u001b[0;36mextract_index\u001b[0;34m(data)\u001b[0m\n\u001b[1;32m   7400\u001b[0m             \u001b[0mlengths\u001b[0m \u001b[0;34m=\u001b[0m \u001b[0mlist\u001b[0m\u001b[0;34m(\u001b[0m\u001b[0mset\u001b[0m\u001b[0;34m(\u001b[0m\u001b[0mraw_lengths\u001b[0m\u001b[0;34m)\u001b[0m\u001b[0;34m)\u001b[0m\u001b[0;34m\u001b[0m\u001b[0m\n\u001b[1;32m   7401\u001b[0m             \u001b[0;32mif\u001b[0m \u001b[0mlen\u001b[0m\u001b[0;34m(\u001b[0m\u001b[0mlengths\u001b[0m\u001b[0;34m)\u001b[0m \u001b[0;34m>\u001b[0m \u001b[0;36m1\u001b[0m\u001b[0;34m:\u001b[0m\u001b[0;34m\u001b[0m\u001b[0m\n\u001b[0;32m-> 7402\u001b[0;31m                 \u001b[0;32mraise\u001b[0m \u001b[0mValueError\u001b[0m\u001b[0;34m(\u001b[0m\u001b[0;34m'arrays must all be same length'\u001b[0m\u001b[0;34m)\u001b[0m\u001b[0;34m\u001b[0m\u001b[0m\n\u001b[0m\u001b[1;32m   7403\u001b[0m \u001b[0;34m\u001b[0m\u001b[0m\n\u001b[1;32m   7404\u001b[0m             \u001b[0;32mif\u001b[0m \u001b[0mhave_dicts\u001b[0m\u001b[0;34m:\u001b[0m\u001b[0;34m\u001b[0m\u001b[0m\n",
      "\u001b[0;31mValueError\u001b[0m: arrays must all be same length"
     ]
    }
   ],
   "source": [
    "excel2json.formatJson(a)"
   ]
  },
  {
   "cell_type": "code",
   "execution_count": 59,
   "metadata": {},
   "outputs": [],
   "source": [
    "def formatExcel(path):\n",
    "    a = pd.read_excel(path)\n",
    "    data = pandasDictFormat(a.to_dict())\n",
    "\n",
    "    for row in data:\n",
    "        jsonschema.validate(row, schema=schema.schema)\n",
    "        shaiValidate(row)\n",
    "        # Use try except outside of the function\n",
    "    return data\n",
    "\n",
    "\n",
    "def formatJson(data):\n",
    "\n",
    "    d = {}\n",
    "    \n",
    "    for key in schema.schema['properties'].keys():\n",
    "        for obj in data:\n",
    "            try:\n",
    "                \n",
    "                value = obj[key]\n",
    "                \n",
    "            except:\n",
    "                value = None\n",
    "                \n",
    "            try:\n",
    "                d[key].append(value)\n",
    "            except:\n",
    "                d[key] = []\n",
    "                d[key].append(value)\n",
    "                   \n",
    "\n",
    " \n",
    "    data = pd.DataFrame(d)"
   ]
  },
  {
   "cell_type": "code",
   "execution_count": 58,
   "metadata": {},
   "outputs": [
    {
     "name": "stdout",
     "output_type": "stream",
     "text": [
      "{'roomNum': [1805, None], 'conversation': [True, False], 'religious': [False, False], 'phone': ['0547792925', '0532267598'], 'medicalCondition': [None, None], 'releaseDate': [None, None], 'hafnayaTime': ['2020-03-21T21:31:00.000Z', None], 'arrivingTime': ['2020-03-21T08:37:18.718Z', None], 'collectingDate': ['2020-03-20T07:05:00.000Z', None], 'receptionTime': ['2020-03-22T06:00:00.000Z', None], 'familyStatus': ['נשוי/ה', 'רווק/ה'], 'numChildren': [3, 1], 'sex': ['זכר', 'זכר'], 'collectingAddress': ['תקומה 36', ''], 'origin': ['מהבית', ''], 'sourceHospital': [None, None], 'birthDate': [None, None], 'apotropus': ['', ''], 'birthCountry': ['ישראל', ''], 'language': ['עברית', ''], 'altContactPhone': ['0547792803', ''], 'smokes': [None, None], 'IDNumber': ['027787829', '123456789'], 'address': ['תקומה', 'מוריה 43'], 'city': ['תקומה', 'חיפה'], 'firstName': ['גיל', 'אלכס'], 'lastName': ['טייכמן', 'יזר'], 'mda': [True, False], 'comments': ['', ''], 'disabilities': ['', ''], 'allergies': ['', ''], 'foodRestrictions': ['', ''], 'guidelines': [False, False], 'sentToKabala': [False, False], 'realeased': [None, None]}\n"
     ]
    }
   ],
   "source": [
    "x = formatJson(a)"
   ]
  },
  {
   "cell_type": "code",
   "execution_count": 51,
   "metadata": {},
   "outputs": [
    {
     "name": "stdout",
     "output_type": "stream",
     "text": [
      "2 drai\n",
      "1 drai\n",
      "2 drai\n",
      "2 drai\n",
      "2 drai\n",
      "2 drai\n",
      "2 drai\n",
      "2 drai\n",
      "2 drai\n",
      "2 drai\n",
      "2 drai\n",
      "2 drai\n",
      "2 drai\n",
      "2 drai\n",
      "2 drai\n",
      "2 drai\n",
      "2 drai\n",
      "2 drai\n",
      "2 drai\n",
      "2 drai\n",
      "2 drai\n",
      "2 drai\n",
      "2 drai\n",
      "2 drai\n",
      "2 drai\n",
      "2 drai\n",
      "2 drai\n",
      "2 drai\n",
      "2 drai\n",
      "2 drai\n",
      "2 drai\n",
      "2 drai\n",
      "2 drai\n",
      "2 drai\n",
      "2 drai\n",
      "2 drai\n",
      "2 drai\n",
      "2 drai\n",
      "1 drai\n",
      "1 drai\n",
      "1 drai\n"
     ]
    }
   ],
   "source": [
    "for k,v in x.items():\n",
    "    print(len(v), key)\n",
    "    "
   ]
  },
  {
   "cell_type": "code",
   "execution_count": 53,
   "metadata": {
    "scrolled": false
   },
   "outputs": [],
   "source": [
    "import schema"
   ]
  },
  {
   "cell_type": "code",
   "execution_count": 56,
   "metadata": {},
   "outputs": [
    {
     "data": {
      "text/plain": [
       "dict_keys(['roomNum', 'conversation', 'religious', 'phone', 'medicalCondition', 'releaseDate', 'hafnayaTime', 'arrivingTime', 'collectingDate', 'receptionTime', 'familyStatus', 'numChildren', 'sex', 'collectingAddress', 'origin', 'sourceHospital', 'birthDate', 'apotropus', 'birthCountry', 'language', 'altContactPhone', 'smokes', 'IDNumber', 'address', 'city', 'firstName', 'lastName', 'mda', 'comments', 'disabilities', 'allergies', 'foodRestrictions', 'guidelines', 'sentToKabala', 'realeased'])"
      ]
     },
     "execution_count": 56,
     "metadata": {},
     "output_type": "execute_result"
    }
   ],
   "source": [
    "schema.schema['properties'].keys()"
   ]
  },
  {
   "cell_type": "code",
   "execution_count": 60,
   "metadata": {},
   "outputs": [
    {
     "data": {
      "text/plain": [
       "str"
      ]
     },
     "execution_count": 60,
     "metadata": {},
     "output_type": "execute_result"
    }
   ],
   "source": [
    "type('')"
   ]
  },
  {
   "cell_type": "code",
   "execution_count": null,
   "metadata": {},
   "outputs": [],
   "source": []
  }
 ],
 "metadata": {
  "kernelspec": {
   "display_name": "Python 3",
   "language": "python",
   "name": "python3"
  },
  "language_info": {
   "codemirror_mode": {
    "name": "ipython",
    "version": 3
   },
   "file_extension": ".py",
   "mimetype": "text/x-python",
   "name": "python",
   "nbconvert_exporter": "python",
   "pygments_lexer": "ipython3",
   "version": "3.7.0"
  }
 },
 "nbformat": 4,
 "nbformat_minor": 2
}
